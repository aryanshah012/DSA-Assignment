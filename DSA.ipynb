{
 "cells": [
  {
   "cell_type": "code",
   "execution_count": 9,
   "metadata": {},
   "outputs": [
    {
     "name": "stdout",
     "output_type": "stream",
     "text": [
      "True -> LL is Empty\n"
     ]
    }
   ],
   "source": [
    "\n",
    "# Returns true if the linked list is empty, false otherwise.\n",
    "class Node:\n",
    "    def __init__(self,data):\n",
    "        self.data=data\n",
    "        self.ref=None\n",
    "\n",
    "class LinkedList:\n",
    "    def __init__(self):\n",
    "        self.head=None\n",
    "\n",
    "    def print_LL(self):\n",
    "        if self.head is None:\n",
    "            print(\"True -> LL is Empty\")\n",
    "        else:\n",
    "            print(\"False -> LL is not Empty\")\n",
    "\n",
    "LL1=LinkedList()\n",
    "LL1.print_LL()"
   ]
  },
  {
   "cell_type": "code",
   "execution_count": 34,
   "metadata": {},
   "outputs": [
    {
     "name": "stdout",
     "output_type": "stream",
     "text": [
      "None\n",
      "None\n",
      "5\n",
      "100\n",
      "250\n",
      "350\n",
      "200\n",
      "500\n",
      "<__main__.Node object at 0x1080af490>\n",
      "350\n"
     ]
    }
   ],
   "source": [
    "#Appends an element to the end of the linked list.\n",
    "#Prepends an element to the beginning of the linked list.\n",
    "#Returns the size of the linked list.\n",
    "#Reverses the linked list.\n",
    "#Inserts an element at the specified index.\n",
    "#Deletes the element at the specified index.\n",
    "#Deletes the element at the specified index.\n",
    "#Returns the middle element of the linked list.\n",
    "\n",
    "class Node:\n",
    "    def __init__(self,data):\n",
    "        self.data=data\n",
    "        self.ref=None\n",
    "\n",
    "class LinkedList:\n",
    "    def __init__(self):\n",
    "        self.head=None\n",
    "\n",
    "    def print_LL(self):\n",
    "        if self.head is None:\n",
    "            print(\"Linked list is empty\")\n",
    "        else:\n",
    "            n=self.head\n",
    "            while n is not None:\n",
    "                print(n.data)\n",
    "                n=n.ref\n",
    "        \n",
    "    def add_begins(self,data):\n",
    "        new_node=Node(data)\n",
    "        new_node.ref=self.head\n",
    "        self.head=new_node\n",
    "\n",
    "    def add_end(self,data):\n",
    "        new_node=Node(data)\n",
    "        if self.head is None:\n",
    "            self.head = new_node\n",
    "        else:\n",
    "            n = self.head\n",
    "            while n.ref is not None:\n",
    "                n=n.ref\n",
    "            n.ref=new_node\n",
    "\n",
    "    def length(self):\n",
    "        count=0\n",
    "        n=self.head\n",
    "        while n is not None:\n",
    "            count+=1\n",
    "            n=n.ref\n",
    "        return count\n",
    "    \n",
    "    \n",
    "    def insert_at_index(self, index, data):\n",
    "        new_node = Node(data)\n",
    "        if index == 0:\n",
    "            new_node.ref = self.head\n",
    "            self.head = new_node\n",
    "            return\n",
    "        n = self.head\n",
    "        for i in range(index - 1):\n",
    "            if n is None:\n",
    "                print(\"Index out of bounds\")\n",
    "            n = n.ref\n",
    "        new_node.ref = n.ref\n",
    "        n.ref = new_node\n",
    "\n",
    "\n",
    "    def delete_at_index(self, index):\n",
    "        if self.head is None:\n",
    "            print(\"Index out of bounds\")\n",
    "        \n",
    "        if index == 0:  # Deleting the head\n",
    "            self.head = self.head.ref\n",
    "            return\n",
    "        \n",
    "        n = self.head\n",
    "        for j in range(index - 1):\n",
    "            if n is None or n.ref is None:\n",
    "                print(\"Index out of bounds\")\n",
    "            n = n.ref\n",
    "        \n",
    "        if n.ref is None:\n",
    "            print(\"Index out of bounds\")\n",
    "\n",
    "\n",
    "    \n",
    "    def reverse(self):\n",
    "        prev=None\n",
    "        n=self.head\n",
    "        while n is not None:\n",
    "            temp=n.ref\n",
    "            n.ref=prev\n",
    "            prev=n\n",
    "            n=temp\n",
    "            self.head=prev\n",
    "        return prev\n",
    "    \n",
    "    def find_middle(self):\n",
    "        if self.head is None:\n",
    "            return None\n",
    "        \n",
    "        slow = self.head\n",
    "        fast = self.head\n",
    "\n",
    "        while fast is not None and fast.ref is not None:\n",
    "            slow = slow.ref\n",
    "            fast = fast.ref.ref\n",
    "        \n",
    "        return slow.data\n",
    "\n",
    "\n",
    "\n",
    "\n",
    "LL1=LinkedList() \n",
    "LL1.add_begins(100)           \n",
    "LL1.add_end(200)\n",
    "LL1.add_end(500)\n",
    "print(LL1.insert_at_index(1,250))\n",
    "print(LL1.insert_at_index(2,350))\n",
    "LL1.delete_at_index(3)\n",
    "print(LL1.length())\n",
    "LL1.print_LL()\n",
    "print(LL1.reverse())\n",
    "middle_value=LL1.find_middle()\n",
    "print(middle_value)\n"
   ]
  },
  {
   "cell_type": "code",
   "execution_count": 35,
   "metadata": {},
   "outputs": [],
   "source": [
    "#ARRAY"
   ]
  },
  {
   "cell_type": "code",
   "execution_count": 1,
   "metadata": {},
   "outputs": [
    {
     "name": "stdout",
     "output_type": "stream",
     "text": [
      "7\n",
      "(2, 3)\n"
     ]
    }
   ],
   "source": [
    "#Returns the middle element of the dynamic array.\n",
    "def middle(arr):\n",
    "    if not arr:\n",
    "        return None\n",
    "    \n",
    "    middle_index=len(arr)//2\n",
    "    if len(arr)%2==1:\n",
    "        return arr[middle_index]\n",
    "    else:\n",
    "        return arr[middle_index-1],arr[middle_index]\n",
    "    \n",
    "arr1=[5,6,7,8,9] # odd case\n",
    "arr2=[1,2,3,4] #even case\n",
    "\n",
    "print(middle(arr1))\n",
    "print(middle(arr2))"
   ]
  },
  {
   "cell_type": "code",
   "execution_count": 2,
   "metadata": {},
   "outputs": [
    {
     "name": "stdout",
     "output_type": "stream",
     "text": [
      "Left_array : [4, 5]\n",
      "Right_array : [6, -1, 3]\n"
     ]
    }
   ],
   "source": [
    "#Splits the dynamic array into two dynamic arrays at the specified index.\n",
    "\n",
    "def split_arr(arr,index):\n",
    "    if 0 <= index <len(arr):\n",
    "        return arr[:index],arr[index:]\n",
    "    else:\n",
    "        raise IndexError(\"Index out of bounds\")\n",
    "\n",
    "arr=[4,5,6,-1,3]\n",
    "split= 2\n",
    "left,right=split_arr(arr,split)\n",
    "print(\"Left_array :\",left)\n",
    "print(\"Right_array :\",right)"
   ]
  },
  {
   "cell_type": "code",
   "execution_count": 3,
   "metadata": {},
   "outputs": [
    {
     "name": "stdout",
     "output_type": "stream",
     "text": [
      "2\n",
      "-1\n"
     ]
    }
   ],
   "source": [
    "\"\"\"Returns the index of the first occurrence of the specified element in the dynamic \n",
    "array, or -1 if the element is not found.\"\"\"\n",
    "\n",
    "def find_index(arr,value):\n",
    "    try:\n",
    "        index=arr.index(value)\n",
    "        return index\n",
    "    except ValueError:\n",
    "        return -1\n",
    "arr=[1,2,3,4,5]\n",
    "value=3\n",
    "value1=0 \n",
    "print(find_index(arr,value)) # found case\n",
    "print(find_index(arr,value1)) #-1 case"
   ]
  },
  {
   "cell_type": "code",
   "execution_count": 4,
   "metadata": {},
   "outputs": [
    {
     "name": "stdout",
     "output_type": "stream",
     "text": [
      "[3, 4, 5, 6, 7, 8, None, None, None, None, None, None]\n"
     ]
    }
   ],
   "source": [
    "#Resizing the arrays with custom factor given by user (other than 2)\n",
    "def resize_arr(arr,fact):\n",
    "    if fact <=0:\n",
    "        raise ValueError(\"Resize factor must be greater than 0.\")\n",
    "    new_size=len(arr)*fact\n",
    "    resized_arr=arr+[None]*(new_size-len(arr))\n",
    "\n",
    "    return resized_arr\n",
    "\n",
    "arr=[3,4,5,6,7,8]\n",
    "factor=2\n",
    "print(resize_arr(arr,factor))"
   ]
  },
  {
   "cell_type": "code",
   "execution_count": null,
   "metadata": {},
   "outputs": [],
   "source": []
  }
 ],
 "metadata": {
  "kernelspec": {
   "display_name": "Python 3",
   "language": "python",
   "name": "python3"
  },
  "language_info": {
   "codemirror_mode": {
    "name": "ipython",
    "version": 3
   },
   "file_extension": ".py",
   "mimetype": "text/x-python",
   "name": "python",
   "nbconvert_exporter": "python",
   "pygments_lexer": "ipython3",
   "version": "3.11.5"
  },
  "orig_nbformat": 4
 },
 "nbformat": 4,
 "nbformat_minor": 2
}
